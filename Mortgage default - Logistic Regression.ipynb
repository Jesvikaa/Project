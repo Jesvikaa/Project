{
 "cells": [
  {
   "cell_type": "markdown",
   "id": "0b276dd6",
   "metadata": {},
   "source": [
    "## Mortgage loan default using Logistic Regression"
   ]
  },
  {
   "cell_type": "code",
   "execution_count": 1,
   "id": "93dc5d7a",
   "metadata": {
    "scrolled": true
   },
   "outputs": [
    {
     "name": "stdout",
     "output_type": "stream",
     "text": [
      "<class 'pandas.core.frame.DataFrame'>\n",
      "RangeIndex: 21861 entries, 0 to 21860\n",
      "Data columns (total 10 columns):\n",
      " #   Column                   Non-Null Count  Dtype  \n",
      "---  ------                   --------------  -----  \n",
      " 0   MORTGAGE_COLLECTABILITY  21861 non-null  int64  \n",
      " 1   GENDER                   21861 non-null  int64  \n",
      " 2   AGE                      21861 non-null  int64  \n",
      " 3   OCCUPATION               21861 non-null  int64  \n",
      " 4   MARITAL_STATUS           21861 non-null  int64  \n",
      " 5   INTEREST_RATE            21861 non-null  float64\n",
      " 6   LOAN_TENURE              21861 non-null  int64  \n",
      " 7   LOAN_PLAFOND             21861 non-null  float64\n",
      " 8   DTI                      21861 non-null  float64\n",
      " 9   LTV_RATIO                21861 non-null  float64\n",
      "dtypes: float64(4), int64(6)\n",
      "memory usage: 1.7 MB\n",
      "None\n",
      "MORTGAGE_COLLECTABILITY    0\n",
      "GENDER                     0\n",
      "AGE                        0\n",
      "OCCUPATION                 0\n",
      "MARITAL_STATUS             0\n",
      "INTEREST_RATE              0\n",
      "LOAN_TENURE                0\n",
      "LOAN_PLAFOND               0\n",
      "DTI                        0\n",
      "LTV_RATIO                  0\n",
      "dtype: int64\n",
      "0    21215\n",
      "1      646\n",
      "Name: MORTGAGE_COLLECTABILITY, dtype: int64\n",
      "       MORTGAGE_COLLECTABILITY        GENDER           AGE    OCCUPATION  \\\n",
      "count             21861.000000  21861.000000  21861.000000  21861.000000   \n",
      "mean                  0.029550      0.682585     41.377796      0.339737   \n",
      "std                   0.169347      0.465481      8.345147      0.473631   \n",
      "min                   0.000000      0.000000     21.000000      0.000000   \n",
      "25%                   0.000000      0.000000     35.000000      0.000000   \n",
      "50%                   0.000000      1.000000     41.000000      0.000000   \n",
      "75%                   0.000000      1.000000     47.000000      1.000000   \n",
      "max                   1.000000      1.000000     73.000000      1.000000   \n",
      "\n",
      "       MARITAL_STATUS  INTEREST_RATE   LOAN_TENURE  LOAN_PLAFOND  \\\n",
      "count    21861.000000   21861.000000  21861.000000  2.186100e+04   \n",
      "mean         0.747496       0.079016    134.317552  8.999229e+08   \n",
      "std          0.434459       0.023417     53.235306  8.156968e+08   \n",
      "min          0.000000       0.015000     12.000000  2.500000e+08   \n",
      "25%          0.000000       0.059900    120.000000  4.000000e+08   \n",
      "50%          1.000000       0.072500    120.000000  6.406400e+08   \n",
      "75%          1.000000       0.098500    180.000000  1.118081e+09   \n",
      "max          1.000000       0.139900    360.000000  3.000000e+10   \n",
      "\n",
      "                DTI     LTV_RATIO  \n",
      "count  21861.000000  21861.000000  \n",
      "mean       0.476604      0.698645  \n",
      "std        0.176648      0.176010  \n",
      "min        0.000000      0.000900  \n",
      "25%        0.349900      0.610668  \n",
      "50%        0.472100      0.720000  \n",
      "75%        0.604500      0.800000  \n",
      "max        0.999900      1.000000  \n"
     ]
    }
   ],
   "source": [
    "import numpy as np\n",
    "import pandas as pd\n",
    "from sklearn.model_selection import train_test_split\n",
    "from sklearn.linear_model import LogisticRegression\n",
    "from imblearn.over_sampling import RandomOverSampler\n",
    "from sklearn.preprocessing import StandardScaler\n",
    "import statsmodels.api as sm\n",
    "from sklearn.metrics import classification_report\n",
    "# Load the dataset\n",
    "data_v1=pd.read_excel(r\"C:\\Users\\Jesvika\\OneDrive\\Mortgage as of Dec'22_230823.xlsx\")\n",
    "data=data_v1.drop(['DEFAULT', 'GENDER_1',\"JANGKA_WKT\"], axis=1)\n",
    "\n",
    "# Display basic information about the dataset\n",
    "print(data.info())\n",
    "\n",
    "# Check for missing values\n",
    "print(data.isnull().sum())\n",
    "\n",
    "# Explore the distribution of the target variable\n",
    "print(data['MORTGAGE_COLLECTABILITY'].value_counts())\n",
    "\n",
    "# Explore the distribution of numerical features\n",
    "print(data.describe())"
   ]
  },
  {
   "cell_type": "code",
   "execution_count": 2,
   "id": "68ba531d",
   "metadata": {},
   "outputs": [
    {
     "data": {
      "text/html": [
       "<div>\n",
       "<style scoped>\n",
       "    .dataframe tbody tr th:only-of-type {\n",
       "        vertical-align: middle;\n",
       "    }\n",
       "\n",
       "    .dataframe tbody tr th {\n",
       "        vertical-align: top;\n",
       "    }\n",
       "\n",
       "    .dataframe thead th {\n",
       "        text-align: right;\n",
       "    }\n",
       "</style>\n",
       "<table border=\"1\" class=\"dataframe\">\n",
       "  <thead>\n",
       "    <tr style=\"text-align: right;\">\n",
       "      <th></th>\n",
       "      <th>MORTGAGE_COLLECTABILITY</th>\n",
       "      <th>GENDER</th>\n",
       "      <th>AGE</th>\n",
       "      <th>OCCUPATION</th>\n",
       "      <th>MARITAL_STATUS</th>\n",
       "      <th>INTEREST_RATE</th>\n",
       "      <th>LOAN_TENURE</th>\n",
       "      <th>LOAN_PLAFOND</th>\n",
       "      <th>DTI</th>\n",
       "      <th>LTV_RATIO</th>\n",
       "    </tr>\n",
       "  </thead>\n",
       "  <tbody>\n",
       "    <tr>\n",
       "      <th>0</th>\n",
       "      <td>0</td>\n",
       "      <td>0</td>\n",
       "      <td>35</td>\n",
       "      <td>1</td>\n",
       "      <td>0</td>\n",
       "      <td>0.0700</td>\n",
       "      <td>60</td>\n",
       "      <td>4.948290e+09</td>\n",
       "      <td>0.5234</td>\n",
       "      <td>0.7</td>\n",
       "    </tr>\n",
       "    <tr>\n",
       "      <th>1</th>\n",
       "      <td>0</td>\n",
       "      <td>1</td>\n",
       "      <td>38</td>\n",
       "      <td>1</td>\n",
       "      <td>1</td>\n",
       "      <td>0.0600</td>\n",
       "      <td>36</td>\n",
       "      <td>2.820144e+09</td>\n",
       "      <td>0.1583</td>\n",
       "      <td>0.7</td>\n",
       "    </tr>\n",
       "    <tr>\n",
       "      <th>2</th>\n",
       "      <td>0</td>\n",
       "      <td>1</td>\n",
       "      <td>38</td>\n",
       "      <td>1</td>\n",
       "      <td>1</td>\n",
       "      <td>0.0862</td>\n",
       "      <td>36</td>\n",
       "      <td>2.066854e+09</td>\n",
       "      <td>0.3784</td>\n",
       "      <td>0.7</td>\n",
       "    </tr>\n",
       "    <tr>\n",
       "      <th>3</th>\n",
       "      <td>0</td>\n",
       "      <td>1</td>\n",
       "      <td>43</td>\n",
       "      <td>0</td>\n",
       "      <td>1</td>\n",
       "      <td>0.0700</td>\n",
       "      <td>180</td>\n",
       "      <td>2.625150e+09</td>\n",
       "      <td>0.6638</td>\n",
       "      <td>0.8</td>\n",
       "    </tr>\n",
       "    <tr>\n",
       "      <th>4</th>\n",
       "      <td>0</td>\n",
       "      <td>1</td>\n",
       "      <td>56</td>\n",
       "      <td>1</td>\n",
       "      <td>1</td>\n",
       "      <td>0.0600</td>\n",
       "      <td>36</td>\n",
       "      <td>3.196770e+09</td>\n",
       "      <td>0.2947</td>\n",
       "      <td>0.7</td>\n",
       "    </tr>\n",
       "  </tbody>\n",
       "</table>\n",
       "</div>"
      ],
      "text/plain": [
       "   MORTGAGE_COLLECTABILITY  GENDER  AGE  OCCUPATION  MARITAL_STATUS  \\\n",
       "0                        0       0   35           1               0   \n",
       "1                        0       1   38           1               1   \n",
       "2                        0       1   38           1               1   \n",
       "3                        0       1   43           0               1   \n",
       "4                        0       1   56           1               1   \n",
       "\n",
       "   INTEREST_RATE  LOAN_TENURE  LOAN_PLAFOND     DTI  LTV_RATIO  \n",
       "0         0.0700           60  4.948290e+09  0.5234        0.7  \n",
       "1         0.0600           36  2.820144e+09  0.1583        0.7  \n",
       "2         0.0862           36  2.066854e+09  0.3784        0.7  \n",
       "3         0.0700          180  2.625150e+09  0.6638        0.8  \n",
       "4         0.0600           36  3.196770e+09  0.2947        0.7  "
      ]
     },
     "execution_count": 2,
     "metadata": {},
     "output_type": "execute_result"
    }
   ],
   "source": [
    "data.head()"
   ]
  },
  {
   "cell_type": "code",
   "execution_count": 3,
   "id": "29999291",
   "metadata": {},
   "outputs": [],
   "source": [
    "borrower = data[[\"GENDER\",\"AGE\",\"OCCUPATION\",\"MARITAL_STATUS\",\"DTI\"]]\n",
    "loan = data[[\"INTEREST_RATE\",\"LOAN_TENURE\",\"LOAN_PLAFOND\",\"LTV_RATIO\"]]"
   ]
  },
  {
   "cell_type": "code",
   "execution_count": 4,
   "id": "9ded1b3d",
   "metadata": {},
   "outputs": [
    {
     "data": {
      "text/html": [
       "<div>\n",
       "<style scoped>\n",
       "    .dataframe tbody tr th:only-of-type {\n",
       "        vertical-align: middle;\n",
       "    }\n",
       "\n",
       "    .dataframe tbody tr th {\n",
       "        vertical-align: top;\n",
       "    }\n",
       "\n",
       "    .dataframe thead th {\n",
       "        text-align: right;\n",
       "    }\n",
       "</style>\n",
       "<table border=\"1\" class=\"dataframe\">\n",
       "  <thead>\n",
       "    <tr style=\"text-align: right;\">\n",
       "      <th></th>\n",
       "      <th>Variables</th>\n",
       "      <th>VIF Scores</th>\n",
       "    </tr>\n",
       "  </thead>\n",
       "  <tbody>\n",
       "    <tr>\n",
       "      <th>0</th>\n",
       "      <td>MORTGAGE_COLLECTABILITY</td>\n",
       "      <td>1.054859</td>\n",
       "    </tr>\n",
       "    <tr>\n",
       "      <th>1</th>\n",
       "      <td>GENDER</td>\n",
       "      <td>3.131424</td>\n",
       "    </tr>\n",
       "    <tr>\n",
       "      <th>2</th>\n",
       "      <td>AGE</td>\n",
       "      <td>22.263990</td>\n",
       "    </tr>\n",
       "    <tr>\n",
       "      <th>3</th>\n",
       "      <td>OCCUPATION</td>\n",
       "      <td>1.751756</td>\n",
       "    </tr>\n",
       "    <tr>\n",
       "      <th>4</th>\n",
       "      <td>MARITAL_STATUS</td>\n",
       "      <td>4.586601</td>\n",
       "    </tr>\n",
       "    <tr>\n",
       "      <th>5</th>\n",
       "      <td>INTEREST_RATE</td>\n",
       "      <td>12.689077</td>\n",
       "    </tr>\n",
       "    <tr>\n",
       "      <th>6</th>\n",
       "      <td>LOAN_TENURE</td>\n",
       "      <td>8.238051</td>\n",
       "    </tr>\n",
       "    <tr>\n",
       "      <th>7</th>\n",
       "      <td>LOAN_PLAFOND</td>\n",
       "      <td>2.550284</td>\n",
       "    </tr>\n",
       "    <tr>\n",
       "      <th>8</th>\n",
       "      <td>DTI</td>\n",
       "      <td>7.856322</td>\n",
       "    </tr>\n",
       "    <tr>\n",
       "      <th>9</th>\n",
       "      <td>LTV_RATIO</td>\n",
       "      <td>14.352124</td>\n",
       "    </tr>\n",
       "  </tbody>\n",
       "</table>\n",
       "</div>"
      ],
      "text/plain": [
       "                 Variables  VIF Scores\n",
       "0  MORTGAGE_COLLECTABILITY    1.054859\n",
       "1                   GENDER    3.131424\n",
       "2                      AGE   22.263990\n",
       "3               OCCUPATION    1.751756\n",
       "4           MARITAL_STATUS    4.586601\n",
       "5            INTEREST_RATE   12.689077\n",
       "6              LOAN_TENURE    8.238051\n",
       "7             LOAN_PLAFOND    2.550284\n",
       "8                      DTI    7.856322\n",
       "9                LTV_RATIO   14.352124"
      ]
     },
     "metadata": {},
     "output_type": "display_data"
    }
   ],
   "source": [
    "#calculate Variance Inflation Factor\n",
    "from statsmodels.stats.outliers_influence import variance_inflation_factor\n",
    "vif_scores = pd.DataFrame() \n",
    "vif_scores[\"Variables\"] = data.columns \n",
    "  \n",
    "# calculating VIF for each feature \n",
    "vif_scores[\"VIF Scores\"] = [variance_inflation_factor(data.values, i) for i in range(len(data.columns))] \n",
    "  \n",
    "display(vif_scores)"
   ]
  },
  {
   "cell_type": "markdown",
   "id": "17db8a87",
   "metadata": {},
   "source": [
    "#### Borrower & Loan"
   ]
  },
  {
   "cell_type": "code",
   "execution_count": 5,
   "id": "dd8bd547",
   "metadata": {},
   "outputs": [
    {
     "name": "stdout",
     "output_type": "stream",
     "text": [
      "              precision    recall  f1-score   support\n",
      "\n",
      "           0       0.97      1.00      0.98      4241\n",
      "           1       0.00      0.00      0.00       132\n",
      "\n",
      "    accuracy                           0.97      4373\n",
      "   macro avg       0.48      0.50      0.49      4373\n",
      "weighted avg       0.94      0.97      0.95      4373\n",
      "\n"
     ]
    },
    {
     "name": "stderr",
     "output_type": "stream",
     "text": [
      "C:\\Users\\Jesvika\\anaconda3\\lib\\site-packages\\sklearn\\metrics\\_classification.py:1318: UndefinedMetricWarning: Precision and F-score are ill-defined and being set to 0.0 in labels with no predicted samples. Use `zero_division` parameter to control this behavior.\n",
      "  _warn_prf(average, modifier, msg_start, len(result))\n",
      "C:\\Users\\Jesvika\\anaconda3\\lib\\site-packages\\sklearn\\metrics\\_classification.py:1318: UndefinedMetricWarning: Precision and F-score are ill-defined and being set to 0.0 in labels with no predicted samples. Use `zero_division` parameter to control this behavior.\n",
      "  _warn_prf(average, modifier, msg_start, len(result))\n",
      "C:\\Users\\Jesvika\\anaconda3\\lib\\site-packages\\sklearn\\metrics\\_classification.py:1318: UndefinedMetricWarning: Precision and F-score are ill-defined and being set to 0.0 in labels with no predicted samples. Use `zero_division` parameter to control this behavior.\n",
      "  _warn_prf(average, modifier, msg_start, len(result))\n"
     ]
    }
   ],
   "source": [
    "# Transform AGE and LTV_RATIO using z-score\n",
    "scaler = StandardScaler()\n",
    "data[\"AGE_ZSCORE\"] = scaler.fit_transform(data[[\"AGE\"]])\n",
    "data[\"LTV_RATIO_ZSCORE\"] = scaler.fit_transform(data[[\"LTV_RATIO\"]])\n",
    "data[\"INTEREST_RATE_ZSCORE\"] = scaler.fit_transform(data[[\"INTEREST_RATE\"]])\n",
    "\n",
    "# Separate features and target variable\n",
    "X = data.drop([\"MORTGAGE_COLLECTABILITY\", \"AGE\", \"LTV_RATIO\",\"INTEREST_RATE\"], axis=1)\n",
    "y = data[\"MORTGAGE_COLLECTABILITY\"]\n",
    "\n",
    "# Split the dataset into train and test sets\n",
    "X_train, X_test, y_train, y_test = train_test_split(X, y, test_size=0.2, random_state=42)\n",
    "\n",
    "# Apply oversampling to the training set\n",
    "oversampler = RandomOverSampler(random_state=42)\n",
    "X_train_resampled, y_train_resampled = oversampler.fit_resample(X_train, y_train)\n",
    "\n",
    "# Create and train the logistic regression model\n",
    "model = LogisticRegression(max_iter=1000)\n",
    "model.fit(X_train_resampled, y_train_resampled)\n",
    "\n",
    "# Make predictions on the test set\n",
    "y_pred = model.predict(X_test)\n",
    "\n",
    "# Evaluate the model\n",
    "print(classification_report(y_test, y_pred))\n"
   ]
  },
  {
   "cell_type": "code",
   "execution_count": 6,
   "id": "589a11bb",
   "metadata": {},
   "outputs": [
    {
     "name": "stdout",
     "output_type": "stream",
     "text": [
      "Optimization terminated successfully.\n",
      "         Current function value: 0.596742\n",
      "         Iterations 5\n",
      "                              Logit Regression Results                             \n",
      "===================================================================================\n",
      "Dep. Variable:     MORTGAGE_COLLECTABILITY   No. Observations:                33948\n",
      "Model:                               Logit   Df Residuals:                    33938\n",
      "Method:                                MLE   Df Model:                            9\n",
      "Date:                     Sun, 10 Sep 2023   Pseudo R-squ.:                  0.1391\n",
      "Time:                             01:13:01   Log-Likelihood:                -20258.\n",
      "converged:                            True   LL-Null:                       -23531.\n",
      "Covariance Type:                 nonrobust   LLR p-value:                     0.000\n",
      "========================================================================================\n",
      "                           coef    std err          z      P>|z|      [0.025      0.975]\n",
      "----------------------------------------------------------------------------------------\n",
      "const                    0.8778      0.052     16.887      0.000       0.776       0.980\n",
      "GENDER                  -0.0276      0.026     -1.070      0.285      -0.078       0.023\n",
      "OCCUPATION               0.3615      0.027     13.484      0.000       0.309       0.414\n",
      "MARITAL_STATUS          -0.2653      0.029     -9.012      0.000      -0.323      -0.208\n",
      "LOAN_TENURE             -0.0079      0.000    -35.711      0.000      -0.008      -0.007\n",
      "LOAN_PLAFOND         -1.942e-10   1.84e-11    -10.549      0.000    -2.3e-10   -1.58e-10\n",
      "DTI                      0.1034      0.067      1.540      0.124      -0.028       0.235\n",
      "AGE_ZSCORE               0.1304      0.014      9.425      0.000       0.103       0.158\n",
      "LTV_RATIO_ZSCORE         0.3395      0.014     24.240      0.000       0.312       0.367\n",
      "INTEREST_RATE_ZSCORE     0.7384      0.014     54.461      0.000       0.712       0.765\n",
      "========================================================================================\n"
     ]
    }
   ],
   "source": [
    "# Add constant to the features matrix\n",
    "X_train_with_const = sm.add_constant(X_train_resampled)\n",
    "\n",
    "# Create a logistic regression model using statsmodels\n",
    "stats_model = sm.Logit(y_train_resampled, X_train_with_const)\n",
    "stats_results = stats_model.fit()\n",
    "\n",
    "# Print summary of stats model\n",
    "print(stats_results.summary())"
   ]
  },
  {
   "cell_type": "code",
   "execution_count": 7,
   "id": "69746589",
   "metadata": {},
   "outputs": [
    {
     "name": "stdout",
     "output_type": "stream",
     "text": [
      "Wald Test (F-test) for Model Significance:\n",
      "<Wald test (chi2): statistic=[[5069.30205426]], p-value=0.0, df_denom=9>\n",
      "\n",
      "McFadden's Pseudo R-squared:\n",
      "0.13908255973196892\n"
     ]
    },
    {
     "name": "stderr",
     "output_type": "stream",
     "text": [
      "C:\\Users\\Jesvika\\anaconda3\\lib\\site-packages\\statsmodels\\base\\model.py:1871: ValueWarning: covariance of constraints does not have full rank. The number of constraints is 10, but rank is 9\n",
      "  warnings.warn('covariance of constraints does not have full '\n",
      "C:\\Users\\Jesvika\\anaconda3\\lib\\site-packages\\statsmodels\\base\\model.py:1889: FutureWarning: The behavior of wald_test will change after 0.14 to returning scalar test statistic values. To get the future behavior now, set scalar to True. To silence this message while retaining the legacy behavior, set scalar to False.\n",
      "  warnings.warn(\n"
     ]
    }
   ],
   "source": [
    "# Uji Wald (F-test) untuk signifikansi keseluruhan model\n",
    "wald_test = stats_results.wald_test(np.eye(X_train_with_const.shape[1]))\n",
    "print(\"Wald Test (F-test) for Model Significance:\")\n",
    "print(wald_test)\n",
    "\n",
    "# Hitung R-squared (McFadden's Pseudo R-squared)\n",
    "rsquared = stats_results.prsquared\n",
    "print(\"\\nMcFadden's Pseudo R-squared:\")\n",
    "print(rsquared)"
   ]
  },
  {
   "cell_type": "code",
   "execution_count": 8,
   "id": "32d5e1a5",
   "metadata": {},
   "outputs": [
    {
     "data": {
      "text/html": [
       "<div>\n",
       "<style scoped>\n",
       "    .dataframe tbody tr th:only-of-type {\n",
       "        vertical-align: middle;\n",
       "    }\n",
       "\n",
       "    .dataframe tbody tr th {\n",
       "        vertical-align: top;\n",
       "    }\n",
       "\n",
       "    .dataframe thead th {\n",
       "        text-align: right;\n",
       "    }\n",
       "</style>\n",
       "<table border=\"1\" class=\"dataframe\">\n",
       "  <thead>\n",
       "    <tr style=\"text-align: right;\">\n",
       "      <th></th>\n",
       "      <th>Variables</th>\n",
       "      <th>VIF Scores</th>\n",
       "    </tr>\n",
       "  </thead>\n",
       "  <tbody>\n",
       "    <tr>\n",
       "      <th>0</th>\n",
       "      <td>GENDER</td>\n",
       "      <td>2.984131</td>\n",
       "    </tr>\n",
       "    <tr>\n",
       "      <th>1</th>\n",
       "      <td>OCCUPATION</td>\n",
       "      <td>1.634855</td>\n",
       "    </tr>\n",
       "    <tr>\n",
       "      <th>2</th>\n",
       "      <td>MARITAL_STATUS</td>\n",
       "      <td>4.136503</td>\n",
       "    </tr>\n",
       "    <tr>\n",
       "      <th>3</th>\n",
       "      <td>LOAN_TENURE</td>\n",
       "      <td>5.963656</td>\n",
       "    </tr>\n",
       "    <tr>\n",
       "      <th>4</th>\n",
       "      <td>LOAN_PLAFOND</td>\n",
       "      <td>2.490896</td>\n",
       "    </tr>\n",
       "    <tr>\n",
       "      <th>5</th>\n",
       "      <td>DTI</td>\n",
       "      <td>6.036411</td>\n",
       "    </tr>\n",
       "    <tr>\n",
       "      <th>6</th>\n",
       "      <td>AGE_ZSCORE</td>\n",
       "      <td>1.365930</td>\n",
       "    </tr>\n",
       "    <tr>\n",
       "      <th>7</th>\n",
       "      <td>LTV_RATIO_ZSCORE</td>\n",
       "      <td>1.152799</td>\n",
       "    </tr>\n",
       "    <tr>\n",
       "      <th>8</th>\n",
       "      <td>INTEREST_RATE_ZSCORE</td>\n",
       "      <td>1.126261</td>\n",
       "    </tr>\n",
       "  </tbody>\n",
       "</table>\n",
       "</div>"
      ],
      "text/plain": [
       "              Variables  VIF Scores\n",
       "0                GENDER    2.984131\n",
       "1            OCCUPATION    1.634855\n",
       "2        MARITAL_STATUS    4.136503\n",
       "3           LOAN_TENURE    5.963656\n",
       "4          LOAN_PLAFOND    2.490896\n",
       "5                   DTI    6.036411\n",
       "6            AGE_ZSCORE    1.365930\n",
       "7      LTV_RATIO_ZSCORE    1.152799\n",
       "8  INTEREST_RATE_ZSCORE    1.126261"
      ]
     },
     "metadata": {},
     "output_type": "display_data"
    }
   ],
   "source": [
    "#calculate Variance Inflation Factor\n",
    "from statsmodels.stats.outliers_influence import variance_inflation_factor\n",
    "vif_scores = pd.DataFrame() \n",
    "vif_scores[\"Variables\"] = X.columns \n",
    "  \n",
    "# calculating VIF for each feature \n",
    "vif_scores[\"VIF Scores\"] = [variance_inflation_factor(X.values, i) for i in range(len(X.columns))] \n",
    "  \n",
    "display(vif_scores)"
   ]
  },
  {
   "cell_type": "markdown",
   "id": "d6ebe99b",
   "metadata": {},
   "source": [
    "#### Borrower"
   ]
  },
  {
   "cell_type": "code",
   "execution_count": 9,
   "id": "681b2b24",
   "metadata": {},
   "outputs": [
    {
     "name": "stdout",
     "output_type": "stream",
     "text": [
      "              precision    recall  f1-score   support\n",
      "\n",
      "           0       0.97      0.61      0.75      4241\n",
      "           1       0.03      0.43      0.06       132\n",
      "\n",
      "    accuracy                           0.60      4373\n",
      "   macro avg       0.50      0.52      0.40      4373\n",
      "weighted avg       0.94      0.60      0.73      4373\n",
      "\n"
     ]
    }
   ],
   "source": [
    "# Transform AGE and LTV_RATIO using z-score\n",
    "scaler = StandardScaler()\n",
    "data[\"AGE_ZSCORE\"] = scaler.fit_transform(data[[\"AGE\"]])\n",
    "\n",
    "# Separate features and target variable\n",
    "X = data[[\"GENDER\", \"AGE_ZSCORE\", \"OCCUPATION\",\"MARITAL_STATUS\",\"DTI\"]]\n",
    "y = data[\"MORTGAGE_COLLECTABILITY\"]\n",
    "\n",
    "# Split the dataset into train and test sets\n",
    "X_train, X_test, y_train, y_test = train_test_split(X, y, test_size=0.2, random_state=42)\n",
    "\n",
    "# Apply oversampling to the training set\n",
    "oversampler = RandomOverSampler(random_state=42)\n",
    "X_train_resampled, y_train_resampled = oversampler.fit_resample(X_train, y_train)\n",
    "\n",
    "# Create and train the logistic regression model\n",
    "model = LogisticRegression(max_iter=1000)\n",
    "model.fit(X_train_resampled, y_train_resampled)\n",
    "\n",
    "# Make predictions on the test set\n",
    "y_pred = model.predict(X_test)\n",
    "\n",
    "# Evaluate the model\n",
    "print(classification_report(y_test, y_pred))\n"
   ]
  },
  {
   "cell_type": "code",
   "execution_count": 10,
   "id": "696f5612",
   "metadata": {},
   "outputs": [
    {
     "name": "stdout",
     "output_type": "stream",
     "text": [
      "Optimization terminated successfully.\n",
      "         Current function value: 0.674210\n",
      "         Iterations 4\n",
      "                              Logit Regression Results                             \n",
      "===================================================================================\n",
      "Dep. Variable:     MORTGAGE_COLLECTABILITY   No. Observations:                33948\n",
      "Model:                               Logit   Df Residuals:                    33942\n",
      "Method:                                MLE   Df Model:                            5\n",
      "Date:                     Sun, 10 Sep 2023   Pseudo R-squ.:                 0.02732\n",
      "Time:                             01:13:01   Log-Likelihood:                -22888.\n",
      "converged:                            True   LL-Null:                       -23531.\n",
      "Covariance Type:                 nonrobust   LLR p-value:                7.720e-276\n",
      "==================================================================================\n",
      "                     coef    std err          z      P>|z|      [0.025      0.975]\n",
      "----------------------------------------------------------------------------------\n",
      "const              0.1228      0.040      3.089      0.002       0.045       0.201\n",
      "GENDER            -0.0318      0.024     -1.332      0.183      -0.079       0.015\n",
      "AGE_ZSCORE         0.3342      0.012     27.417      0.000       0.310       0.358\n",
      "OCCUPATION         0.3970      0.023     17.132      0.000       0.352       0.442\n",
      "MARITAL_STATUS    -0.3680      0.027    -13.578      0.000      -0.421      -0.315\n",
      "DTI               -0.0666      0.061     -1.094      0.274      -0.186       0.053\n",
      "==================================================================================\n"
     ]
    }
   ],
   "source": [
    "# Add constant to the features matrix\n",
    "X_train_with_const = sm.add_constant(X_train_resampled)\n",
    "\n",
    "# Create a logistic regression model using statsmodels\n",
    "stats_model = sm.Logit(y_train_resampled, X_train_with_const)\n",
    "stats_results = stats_model.fit()\n",
    "\n",
    "# Print summary of stats model\n",
    "print(stats_results.summary())"
   ]
  },
  {
   "cell_type": "code",
   "execution_count": 11,
   "id": "383e30ba",
   "metadata": {},
   "outputs": [
    {
     "name": "stdout",
     "output_type": "stream",
     "text": [
      "Wald Test (F-test) for Model Significance:\n",
      "<Wald test (chi2): statistic=[[1217.76926277]], p-value=6.827017636812101e-260, df_denom=6>\n",
      "\n",
      "McFadden's Pseudo R-squared:\n",
      "0.027320869649393065\n"
     ]
    },
    {
     "name": "stderr",
     "output_type": "stream",
     "text": [
      "C:\\Users\\Jesvika\\anaconda3\\lib\\site-packages\\statsmodels\\base\\model.py:1889: FutureWarning: The behavior of wald_test will change after 0.14 to returning scalar test statistic values. To get the future behavior now, set scalar to True. To silence this message while retaining the legacy behavior, set scalar to False.\n",
      "  warnings.warn(\n"
     ]
    }
   ],
   "source": [
    "# Uji Wald (F-test) untuk signifikansi keseluruhan model\n",
    "wald_test = stats_results.wald_test(np.eye(X_train_with_const.shape[1]))\n",
    "print(\"Wald Test (F-test) for Model Significance:\")\n",
    "print(wald_test)\n",
    "\n",
    "# Hitung R-squared (McFadden's Pseudo R-squared)\n",
    "rsquared = stats_results.prsquared\n",
    "print(\"\\nMcFadden's Pseudo R-squared:\")\n",
    "print(rsquared)"
   ]
  },
  {
   "cell_type": "markdown",
   "id": "f10dcb1e",
   "metadata": {},
   "source": [
    "#### Loan"
   ]
  },
  {
   "cell_type": "code",
   "execution_count": 12,
   "id": "901163fa",
   "metadata": {},
   "outputs": [
    {
     "name": "stdout",
     "output_type": "stream",
     "text": [
      "              precision    recall  f1-score   support\n",
      "\n",
      "           0       0.97      1.00      0.98      4241\n",
      "           1       0.00      0.00      0.00       132\n",
      "\n",
      "    accuracy                           0.97      4373\n",
      "   macro avg       0.48      0.50      0.49      4373\n",
      "weighted avg       0.94      0.97      0.95      4373\n",
      "\n"
     ]
    },
    {
     "name": "stderr",
     "output_type": "stream",
     "text": [
      "C:\\Users\\Jesvika\\anaconda3\\lib\\site-packages\\sklearn\\metrics\\_classification.py:1318: UndefinedMetricWarning: Precision and F-score are ill-defined and being set to 0.0 in labels with no predicted samples. Use `zero_division` parameter to control this behavior.\n",
      "  _warn_prf(average, modifier, msg_start, len(result))\n",
      "C:\\Users\\Jesvika\\anaconda3\\lib\\site-packages\\sklearn\\metrics\\_classification.py:1318: UndefinedMetricWarning: Precision and F-score are ill-defined and being set to 0.0 in labels with no predicted samples. Use `zero_division` parameter to control this behavior.\n",
      "  _warn_prf(average, modifier, msg_start, len(result))\n",
      "C:\\Users\\Jesvika\\anaconda3\\lib\\site-packages\\sklearn\\metrics\\_classification.py:1318: UndefinedMetricWarning: Precision and F-score are ill-defined and being set to 0.0 in labels with no predicted samples. Use `zero_division` parameter to control this behavior.\n",
      "  _warn_prf(average, modifier, msg_start, len(result))\n"
     ]
    }
   ],
   "source": [
    "# Transform AGE and LTV_RATIO using z-score\n",
    "scaler = StandardScaler()\n",
    "data[\"LTV_RATIO_ZSCORE\"] = scaler.fit_transform(data[[\"LTV_RATIO\"]])\n",
    "data[\"INTEREST_RATE_ZSCORE\"] = scaler.fit_transform(data[[\"INTEREST_RATE\"]])\n",
    "\n",
    "# Separate features and target variable\n",
    "X = data[[\"INTEREST_RATE_ZSCORE\", \"LOAN_TENURE\", \"LOAN_PLAFOND\",\"LTV_RATIO_ZSCORE\"]]\n",
    "y = data[\"MORTGAGE_COLLECTABILITY\"]\n",
    "\n",
    "# Split the dataset into train and test sets\n",
    "X_train, X_test, y_train, y_test = train_test_split(X, y, test_size=0.2, random_state=42)\n",
    "\n",
    "# Apply oversampling to the training set\n",
    "oversampler = RandomOverSampler(random_state=42)\n",
    "X_train_resampled, y_train_resampled = oversampler.fit_resample(X_train, y_train)\n",
    "\n",
    "# Create and train the logistic regression model\n",
    "model = LogisticRegression()\n",
    "model.fit(X_train_resampled, y_train_resampled)\n",
    "\n",
    "# Make predictions on the test set\n",
    "y_pred = model.predict(X_test)\n",
    "\n",
    "# Evaluate the model\n",
    "print(classification_report(y_test, y_pred))\n"
   ]
  },
  {
   "cell_type": "code",
   "execution_count": 13,
   "id": "f2ddcbe8",
   "metadata": {},
   "outputs": [
    {
     "name": "stdout",
     "output_type": "stream",
     "text": [
      "Optimization terminated successfully.\n",
      "         Current function value: 0.601520\n",
      "         Iterations 5\n",
      "                              Logit Regression Results                             \n",
      "===================================================================================\n",
      "Dep. Variable:     MORTGAGE_COLLECTABILITY   No. Observations:                33948\n",
      "Model:                               Logit   Df Residuals:                    33943\n",
      "Method:                                MLE   Df Model:                            4\n",
      "Date:                     Sun, 10 Sep 2023   Pseudo R-squ.:                  0.1322\n",
      "Time:                             01:13:01   Log-Likelihood:                -20420.\n",
      "converged:                            True   LL-Null:                       -23531.\n",
      "Covariance Type:                 nonrobust   LLR p-value:                     0.000\n",
      "========================================================================================\n",
      "                           coef    std err          z      P>|z|      [0.025      0.975]\n",
      "----------------------------------------------------------------------------------------\n",
      "const                    0.9614      0.033     29.296      0.000       0.897       1.026\n",
      "INTEREST_RATE_ZSCORE     0.7627      0.013     57.577      0.000       0.737       0.789\n",
      "LOAN_TENURE             -0.0091      0.000    -43.374      0.000      -0.009      -0.009\n",
      "LOAN_PLAFOND         -1.305e-10    1.7e-11     -7.678      0.000   -1.64e-10   -9.72e-11\n",
      "LTV_RATIO_ZSCORE         0.3274      0.014     23.869      0.000       0.301       0.354\n",
      "========================================================================================\n"
     ]
    }
   ],
   "source": [
    "# Add constant to the features matrix\n",
    "X_train_with_const = sm.add_constant(X_train_resampled)\n",
    "\n",
    "# Create a logistic regression model using statsmodels\n",
    "stats_model = sm.Logit(y_train_resampled, X_train_with_const)\n",
    "stats_results = stats_model.fit()\n",
    "\n",
    "# Print summary of stats model\n",
    "print(stats_results.summary())"
   ]
  },
  {
   "cell_type": "code",
   "execution_count": 14,
   "id": "618fb576",
   "metadata": {},
   "outputs": [
    {
     "name": "stdout",
     "output_type": "stream",
     "text": [
      "Wald Test (F-test) for Model Significance:\n",
      "<Wald test (chi2): statistic=[[4856.69945142]], p-value=0.0, df_denom=4>\n",
      "\n",
      "McFadden's Pseudo R-squared:\n",
      "0.1321907251750487\n"
     ]
    },
    {
     "name": "stderr",
     "output_type": "stream",
     "text": [
      "C:\\Users\\Jesvika\\anaconda3\\lib\\site-packages\\statsmodels\\base\\model.py:1871: ValueWarning: covariance of constraints does not have full rank. The number of constraints is 5, but rank is 4\n",
      "  warnings.warn('covariance of constraints does not have full '\n",
      "C:\\Users\\Jesvika\\anaconda3\\lib\\site-packages\\statsmodels\\base\\model.py:1889: FutureWarning: The behavior of wald_test will change after 0.14 to returning scalar test statistic values. To get the future behavior now, set scalar to True. To silence this message while retaining the legacy behavior, set scalar to False.\n",
      "  warnings.warn(\n"
     ]
    }
   ],
   "source": [
    "# Uji Wald (F-test) untuk signifikansi keseluruhan model\n",
    "wald_test = stats_results.wald_test(np.eye(X_train_with_const.shape[1]))\n",
    "print(\"Wald Test (F-test) for Model Significance:\")\n",
    "print(wald_test)\n",
    "\n",
    "# Hitung R-squared (McFadden's Pseudo R-squared)\n",
    "rsquared = stats_results.prsquared\n",
    "print(\"\\nMcFadden's Pseudo R-squared:\")\n",
    "print(rsquared)"
   ]
  },
  {
   "cell_type": "markdown",
   "id": "e54846dd",
   "metadata": {},
   "source": [
    "## SMOTE"
   ]
  },
  {
   "cell_type": "code",
   "execution_count": 15,
   "id": "54894272",
   "metadata": {},
   "outputs": [
    {
     "name": "stdout",
     "output_type": "stream",
     "text": [
      "Classification Report:\n",
      "              precision    recall  f1-score   support\n",
      "\n",
      "           0       0.97      1.00      0.99      6367\n",
      "           1       0.00      0.00      0.00       192\n",
      "\n",
      "    accuracy                           0.97      6559\n",
      "   macro avg       0.49      0.50      0.49      6559\n",
      "weighted avg       0.94      0.97      0.96      6559\n",
      "\n",
      "AUC-ROC: 0.5618353587508507\n"
     ]
    },
    {
     "name": "stderr",
     "output_type": "stream",
     "text": [
      "C:\\Users\\Jesvika\\anaconda3\\lib\\site-packages\\sklearn\\metrics\\_classification.py:1318: UndefinedMetricWarning: Precision and F-score are ill-defined and being set to 0.0 in labels with no predicted samples. Use `zero_division` parameter to control this behavior.\n",
      "  _warn_prf(average, modifier, msg_start, len(result))\n",
      "C:\\Users\\Jesvika\\anaconda3\\lib\\site-packages\\sklearn\\metrics\\_classification.py:1318: UndefinedMetricWarning: Precision and F-score are ill-defined and being set to 0.0 in labels with no predicted samples. Use `zero_division` parameter to control this behavior.\n",
      "  _warn_prf(average, modifier, msg_start, len(result))\n",
      "C:\\Users\\Jesvika\\anaconda3\\lib\\site-packages\\sklearn\\metrics\\_classification.py:1318: UndefinedMetricWarning: Precision and F-score are ill-defined and being set to 0.0 in labels with no predicted samples. Use `zero_division` parameter to control this behavior.\n",
      "  _warn_prf(average, modifier, msg_start, len(result))\n"
     ]
    }
   ],
   "source": [
    "import pandas as pd\n",
    "from sklearn.model_selection import train_test_split\n",
    "from sklearn.linear_model import LogisticRegression\n",
    "from imblearn.over_sampling import SMOTE\n",
    "from sklearn.metrics import classification_report, roc_auc_score\n",
    "\n",
    "# Load your dataset\n",
    "data_v1=pd.read_excel(r\"C:\\Users\\Jesvika\\OneDrive\\Mortgage as of Dec'22_230823.xlsx\")\n",
    "data=data_v1.drop(['DEFAULT', 'GENDER_1',\"JANGKA_WKT\"], axis=1)\n",
    "\n",
    "# Transform AGE and LTV_RATIO using z-score\n",
    "scaler = StandardScaler()\n",
    "data[\"AGE_ZSCORE\"] = scaler.fit_transform(data[[\"AGE\"]])\n",
    "data[\"LTV_RATIO_ZSCORE\"] = scaler.fit_transform(data[[\"LTV_RATIO\"]])\n",
    "data[\"INTEREST_RATE_ZSCORE\"] = scaler.fit_transform(data[[\"INTEREST_RATE\"]])\n",
    "\n",
    "# Separate features and target variable\n",
    "X = data[[\"GENDER\", \"AGE_ZSCORE\", \"OCCUPATION\", \"MARITAL_STATUS\", \"DTI\", \"INTEREST_RATE_ZSCORE\", \"LOAN_TENURE\", \"LOAN_PLAFOND\", \"LTV_RATIO_ZSCORE\"]]\n",
    "y = data[\"MORTGAGE_COLLECTABILITY\"]\n",
    "\n",
    "# Split the dataset into train and test sets\n",
    "X_train, X_test, y_train, y_test = train_test_split(X, y, test_size=0.3, random_state=42)\n",
    "\n",
    "# Apply SMOTE to the training set\n",
    "smote = SMOTE(random_state=42)\n",
    "X_train_resampled, y_train_resampled = smote.fit_resample(X_train, y_train)\n",
    "\n",
    "# Create and train the logistic regression model\n",
    "model = LogisticRegression(max_iter=1000)\n",
    "model.fit(X_train_resampled, y_train_resampled)\n",
    "\n",
    "# Make predictions on the test set\n",
    "y_pred = model.predict(X_test)\n",
    "\n",
    "# Evaluate the model\n",
    "print(\"Classification Report:\")\n",
    "print(classification_report(y_test, y_pred))\n",
    "\n",
    "# Calculate AUC-ROC\n",
    "y_pred_prob = model.predict_proba(X_test)[:, 1]\n",
    "auc_roc = roc_auc_score(y_test, y_pred_prob)\n",
    "print(\"AUC-ROC:\", auc_roc)\n"
   ]
  },
  {
   "cell_type": "code",
   "execution_count": 16,
   "id": "d2c4895a",
   "metadata": {},
   "outputs": [
    {
     "name": "stdout",
     "output_type": "stream",
     "text": [
      "Optimization terminated successfully.\n",
      "         Current function value: 0.524227\n",
      "         Iterations 6\n",
      "                              Logit Regression Results                             \n",
      "===================================================================================\n",
      "Dep. Variable:     MORTGAGE_COLLECTABILITY   No. Observations:                29696\n",
      "Model:                               Logit   Df Residuals:                    29686\n",
      "Method:                                MLE   Df Model:                            9\n",
      "Date:                     Sun, 10 Sep 2023   Pseudo R-squ.:                  0.2437\n",
      "Time:                             01:13:04   Log-Likelihood:                -15567.\n",
      "converged:                            True   LL-Null:                       -20584.\n",
      "Covariance Type:                 nonrobust   LLR p-value:                     0.000\n",
      "========================================================================================\n",
      "                           coef    std err          z      P>|z|      [0.025      0.975]\n",
      "----------------------------------------------------------------------------------------\n",
      "const                    2.5099      0.062     40.487      0.000       2.388       2.631\n",
      "GENDER                  -0.8572      0.028    -30.348      0.000      -0.913      -0.802\n",
      "AGE_ZSCORE               0.3091      0.017     17.998      0.000       0.275       0.343\n",
      "OCCUPATION              -0.6636      0.033    -19.963      0.000      -0.729      -0.598\n",
      "MARITAL_STATUS          -1.0784      0.032    -34.124      0.000      -1.140      -1.016\n",
      "DTI                     -0.0182      0.085     -0.214      0.831      -0.185       0.149\n",
      "INTEREST_RATE_ZSCORE     0.8831      0.017     51.727      0.000       0.850       0.917\n",
      "LOAN_TENURE             -0.0123      0.000    -42.670      0.000      -0.013      -0.012\n",
      "LOAN_PLAFOND          -1.51e-11   2.07e-11     -0.730      0.465   -5.57e-11    2.55e-11\n",
      "LTV_RATIO_ZSCORE         0.4466      0.018     24.876      0.000       0.411       0.482\n",
      "========================================================================================\n"
     ]
    }
   ],
   "source": [
    "# Add constant to the features matrix\n",
    "X_train_with_const = sm.add_constant(X_train_resampled)\n",
    "\n",
    "# Create a logistic regression model using statsmodels\n",
    "stats_model = sm.Logit(y_train_resampled, X_train_with_const)\n",
    "stats_results = stats_model.fit()\n",
    "\n",
    "# Print summary of stats model\n",
    "print(stats_results.summary())"
   ]
  },
  {
   "cell_type": "markdown",
   "id": "b09376eb",
   "metadata": {},
   "source": [
    "## GridSearchCV"
   ]
  },
  {
   "cell_type": "code",
   "execution_count": 17,
   "id": "d17a38c6",
   "metadata": {},
   "outputs": [
    {
     "name": "stdout",
     "output_type": "stream",
     "text": [
      "Best Parameters: {'C': 0.001, 'penalty': 'l2'}\n",
      "Best AUC-ROC Score: 0.5655640675741176\n"
     ]
    }
   ],
   "source": [
    "from sklearn.model_selection import GridSearchCV, StratifiedKFold\n",
    "\n",
    "# Define the parameter grid\n",
    "param_grid = {\n",
    "    'C': [0.001, 0.01, 0.1, 1, 10],\n",
    "    'penalty': ['l2']\n",
    "}\n",
    "\n",
    "# Create a logistic regression model\n",
    "model = LogisticRegression(max_iter=1000)\n",
    "\n",
    "# Create a stratified k-fold cross-validation generator\n",
    "cv = StratifiedKFold(n_splits=5, shuffle=True, random_state=42)\n",
    "\n",
    "# Initialize GridSearchCV\n",
    "grid_search = GridSearchCV(model, param_grid, cv=cv, scoring='roc_auc')\n",
    "\n",
    "# Fit the model\n",
    "grid_search.fit(X_train_resampled, y_train_resampled)\n",
    "\n",
    "# Print the best parameters and best AUC-ROC score\n",
    "print(\"Best Parameters:\", grid_search.best_params_)\n",
    "print(\"Best AUC-ROC Score:\", grid_search.best_score_)\n"
   ]
  },
  {
   "cell_type": "code",
   "execution_count": 18,
   "id": "56003beb",
   "metadata": {},
   "outputs": [
    {
     "name": "stdout",
     "output_type": "stream",
     "text": [
      "Optimization terminated successfully.\n",
      "         Current function value: 0.524227\n",
      "         Iterations 6\n",
      "                              Logit Regression Results                             \n",
      "===================================================================================\n",
      "Dep. Variable:     MORTGAGE_COLLECTABILITY   No. Observations:                29696\n",
      "Model:                               Logit   Df Residuals:                    29686\n",
      "Method:                                MLE   Df Model:                            9\n",
      "Date:                     Sun, 10 Sep 2023   Pseudo R-squ.:                  0.2437\n",
      "Time:                             01:13:06   Log-Likelihood:                -15567.\n",
      "converged:                            True   LL-Null:                       -20584.\n",
      "Covariance Type:                 nonrobust   LLR p-value:                     0.000\n",
      "========================================================================================\n",
      "                           coef    std err          z      P>|z|      [0.025      0.975]\n",
      "----------------------------------------------------------------------------------------\n",
      "const                    2.5099      0.062     40.487      0.000       2.388       2.631\n",
      "GENDER                  -0.8572      0.028    -30.348      0.000      -0.913      -0.802\n",
      "AGE_ZSCORE               0.3091      0.017     17.998      0.000       0.275       0.343\n",
      "OCCUPATION              -0.6636      0.033    -19.963      0.000      -0.729      -0.598\n",
      "MARITAL_STATUS          -1.0784      0.032    -34.124      0.000      -1.140      -1.016\n",
      "DTI                     -0.0182      0.085     -0.214      0.831      -0.185       0.149\n",
      "INTEREST_RATE_ZSCORE     0.8831      0.017     51.727      0.000       0.850       0.917\n",
      "LOAN_TENURE             -0.0123      0.000    -42.670      0.000      -0.013      -0.012\n",
      "LOAN_PLAFOND          -1.51e-11   2.07e-11     -0.730      0.465   -5.57e-11    2.55e-11\n",
      "LTV_RATIO_ZSCORE         0.4466      0.018     24.876      0.000       0.411       0.482\n",
      "========================================================================================\n"
     ]
    }
   ],
   "source": [
    "# Add constant to the features matrix\n",
    "X_train_with_const = sm.add_constant(X_train_resampled)\n",
    "\n",
    "# Create a logistic regression model using statsmodels\n",
    "stats_model = sm.Logit(y_train_resampled, X_train_with_const)\n",
    "stats_results = stats_model.fit()\n",
    "\n",
    "# Print summary of stats model\n",
    "print(stats_results.summary())"
   ]
  },
  {
   "cell_type": "code",
   "execution_count": null,
   "id": "2a3c63b6",
   "metadata": {},
   "outputs": [],
   "source": []
  },
  {
   "cell_type": "code",
   "execution_count": null,
   "id": "6f2a7c63",
   "metadata": {},
   "outputs": [],
   "source": []
  },
  {
   "cell_type": "code",
   "execution_count": 19,
   "id": "bce71cc8",
   "metadata": {},
   "outputs": [
    {
     "name": "stdout",
     "output_type": "stream",
     "text": [
      "Classification Report:\n",
      "              precision    recall  f1-score   support\n",
      "\n",
      "           0       0.97      1.00      0.99      6367\n",
      "           1       0.00      0.00      0.00       192\n",
      "\n",
      "    accuracy                           0.97      6559\n",
      "   macro avg       0.49      0.50      0.49      6559\n",
      "weighted avg       0.94      0.97      0.96      6559\n",
      "\n"
     ]
    },
    {
     "name": "stderr",
     "output_type": "stream",
     "text": [
      "C:\\Users\\Jesvika\\anaconda3\\lib\\site-packages\\sklearn\\metrics\\_classification.py:1318: UndefinedMetricWarning: Precision and F-score are ill-defined and being set to 0.0 in labels with no predicted samples. Use `zero_division` parameter to control this behavior.\n",
      "  _warn_prf(average, modifier, msg_start, len(result))\n",
      "C:\\Users\\Jesvika\\anaconda3\\lib\\site-packages\\sklearn\\metrics\\_classification.py:1318: UndefinedMetricWarning: Precision and F-score are ill-defined and being set to 0.0 in labels with no predicted samples. Use `zero_division` parameter to control this behavior.\n",
      "  _warn_prf(average, modifier, msg_start, len(result))\n",
      "C:\\Users\\Jesvika\\anaconda3\\lib\\site-packages\\sklearn\\metrics\\_classification.py:1318: UndefinedMetricWarning: Precision and F-score are ill-defined and being set to 0.0 in labels with no predicted samples. Use `zero_division` parameter to control this behavior.\n",
      "  _warn_prf(average, modifier, msg_start, len(result))\n"
     ]
    }
   ],
   "source": [
    "from sklearn.linear_model import LogisticRegression\n",
    "\n",
    "# Create a logistic regression model with class weights\n",
    "# Set the 'class_weight' parameter to 'balanced' to automatically adjust weights\n",
    "model = LogisticRegression(max_iter=1000, class_weight='balanced')\n",
    "\n",
    "# Fit the model\n",
    "model.fit(X_train_resampled, y_train_resampled)\n",
    "\n",
    "# Make predictions on the test set\n",
    "y_pred = model.predict(X_test)\n",
    "\n",
    "# Evaluate the model\n",
    "print(\"Classification Report:\")\n",
    "print(classification_report(y_test, y_pred))\n"
   ]
  },
  {
   "cell_type": "code",
   "execution_count": 20,
   "id": "e4b45504",
   "metadata": {},
   "outputs": [
    {
     "name": "stdout",
     "output_type": "stream",
     "text": [
      "Optimization terminated successfully.\n",
      "         Current function value: 0.524227\n",
      "         Iterations 6\n",
      "                              Logit Regression Results                             \n",
      "===================================================================================\n",
      "Dep. Variable:     MORTGAGE_COLLECTABILITY   No. Observations:                29696\n",
      "Model:                               Logit   Df Residuals:                    29686\n",
      "Method:                                MLE   Df Model:                            9\n",
      "Date:                     Sun, 10 Sep 2023   Pseudo R-squ.:                  0.2437\n",
      "Time:                             01:13:06   Log-Likelihood:                -15567.\n",
      "converged:                            True   LL-Null:                       -20584.\n",
      "Covariance Type:                 nonrobust   LLR p-value:                     0.000\n",
      "========================================================================================\n",
      "                           coef    std err          z      P>|z|      [0.025      0.975]\n",
      "----------------------------------------------------------------------------------------\n",
      "const                    2.5099      0.062     40.487      0.000       2.388       2.631\n",
      "GENDER                  -0.8572      0.028    -30.348      0.000      -0.913      -0.802\n",
      "AGE_ZSCORE               0.3091      0.017     17.998      0.000       0.275       0.343\n",
      "OCCUPATION              -0.6636      0.033    -19.963      0.000      -0.729      -0.598\n",
      "MARITAL_STATUS          -1.0784      0.032    -34.124      0.000      -1.140      -1.016\n",
      "DTI                     -0.0182      0.085     -0.214      0.831      -0.185       0.149\n",
      "INTEREST_RATE_ZSCORE     0.8831      0.017     51.727      0.000       0.850       0.917\n",
      "LOAN_TENURE             -0.0123      0.000    -42.670      0.000      -0.013      -0.012\n",
      "LOAN_PLAFOND          -1.51e-11   2.07e-11     -0.730      0.465   -5.57e-11    2.55e-11\n",
      "LTV_RATIO_ZSCORE         0.4466      0.018     24.876      0.000       0.411       0.482\n",
      "========================================================================================\n"
     ]
    }
   ],
   "source": [
    "# Add constant to the features matrix\n",
    "X_train_with_const = sm.add_constant(X_train_resampled)\n",
    "\n",
    "# Create a logistic regression model using statsmodels\n",
    "stats_model = sm.Logit(y_train_resampled, X_train_with_const)\n",
    "stats_results = stats_model.fit()\n",
    "\n",
    "# Print summary of stats model\n",
    "print(stats_results.summary())"
   ]
  },
  {
   "cell_type": "code",
   "execution_count": null,
   "id": "63066176",
   "metadata": {},
   "outputs": [],
   "source": []
  }
 ],
 "metadata": {
  "kernelspec": {
   "display_name": "Python 3 (ipykernel)",
   "language": "python",
   "name": "python3"
  },
  "language_info": {
   "codemirror_mode": {
    "name": "ipython",
    "version": 3
   },
   "file_extension": ".py",
   "mimetype": "text/x-python",
   "name": "python",
   "nbconvert_exporter": "python",
   "pygments_lexer": "ipython3",
   "version": "3.9.13"
  }
 },
 "nbformat": 4,
 "nbformat_minor": 5
}
